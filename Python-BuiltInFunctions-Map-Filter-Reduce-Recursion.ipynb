{
 "cells": [
  {
   "cell_type": "markdown",
   "metadata": {},
   "source": [
    "# Map, Filter, Reduce, Lambda & Recursion"
   ]
  },
  {
   "cell_type": "markdown",
   "metadata": {},
   "source": [
    "## Tasks Today:\n",
    "\n",
    "1) <b>Lambda Functions</b> <br>\n",
    " &nbsp;&nbsp;&nbsp;&nbsp; a) Syntax <br>\n",
    " &nbsp;&nbsp;&nbsp;&nbsp; b) Saving to a Variable <br>\n",
    " &nbsp;&nbsp;&nbsp;&nbsp; c) Multiple Inputs <br>\n",
    " &nbsp;&nbsp;&nbsp;&nbsp; d) Passing a Lambda into a Function <br>\n",
    " &nbsp;&nbsp;&nbsp;&nbsp; e) Returning a Lambda from a Function <br>\n",
    " &nbsp;&nbsp;&nbsp;&nbsp; f) In-Class Exercise #1 <br>\n",
    "2) <b>Map</b> <br>\n",
    " &nbsp;&nbsp;&nbsp;&nbsp; a) Syntax <br>\n",
    " &nbsp;&nbsp;&nbsp;&nbsp; b) Using Lambda's with Map <br>\n",
    " &nbsp;&nbsp;&nbsp;&nbsp; c) In-Class Exercise #2 <br>\n",
    "3) <b>Filter</b> <br>\n",
    " &nbsp;&nbsp;&nbsp;&nbsp; a) Syntax <br>\n",
    " &nbsp;&nbsp;&nbsp;&nbsp; b) Using Lambda's with Filter <br>\n",
    " &nbsp;&nbsp;&nbsp;&nbsp; c) In-Class Exercise #3 <br>\n",
    "4) <b>Reduce</b> <br>\n",
    " &nbsp;&nbsp;&nbsp;&nbsp; a) Syntax <br>\n",
    " &nbsp;&nbsp;&nbsp;&nbsp; b) Using Lambda's with Reduce <br>\n",
    " &nbsp;&nbsp;&nbsp;&nbsp; c) In-Class Exercise #4 <br>\n",
    "5) <b>Recursion</b> <br>\n",
    " &nbsp;&nbsp;&nbsp;&nbsp; a) Implementing a Base <br>\n",
    " &nbsp;&nbsp;&nbsp;&nbsp; b) Writing a Factorial Function <br>\n",
    " &nbsp;&nbsp;&nbsp;&nbsp; c) In-Class Exercise #5 <br>\n",
    "6) <b>Generators & Iterators</b> <br>\n",
    " &nbsp;&nbsp;&nbsp;&nbsp; a) Yield Keyword <br>\n",
    " &nbsp;&nbsp;&nbsp;&nbsp; b) Inifinite Generator <br>\n",
    " &nbsp;&nbsp;&nbsp;&nbsp; c) In-Class Exercise #6 <br>\n",
    "7) <b>Exercises</b> <br>\n",
    " &nbsp;&nbsp;&nbsp;&nbsp; a) Exercise #1 - Filtering Empty Strings <br>\n",
    " &nbsp;&nbsp;&nbsp;&nbsp; b) Exercise #2 - Sorting with Last Name <br>\n",
    " &nbsp;&nbsp;&nbsp;&nbsp; c) Exercise #3 - Conversion to Farhenheit <br>\n",
    " &nbsp;&nbsp;&nbsp;&nbsp; d) Exercise #4 - Fibonacci Sequence <br>"
   ]
  },
  {
   "cell_type": "markdown",
   "metadata": {},
   "source": [
    "## Lambda Functions <br>\n",
    "<p>Lambda functions... or \"Anonymous Functions\" are referring to inline functions with no name. The keyword lambda denotes the no name function, and executes within a single line. Without saving it to a variable; however, it is not able to be used, unless passed in either as a paramater or within list comprehension.<br>Written as \"(keyword lambda) (one or more inputs) (colon) (function to be executed)\"</p>"
   ]
  },
  {
   "cell_type": "markdown",
   "metadata": {},
   "source": [
    "#### Syntax"
   ]
  },
  {
   "cell_type": "code",
   "execution_count": 5,
   "metadata": {},
   "outputs": [
    {
     "data": {
      "text/plain": [
       "<function __main__.<lambda>(x)>"
      ]
     },
     "execution_count": 5,
     "metadata": {},
     "output_type": "execute_result"
    }
   ],
   "source": [
    "lambda x: x**2"
   ]
  },
  {
   "cell_type": "code",
   "execution_count": 6,
   "metadata": {},
   "outputs": [
    {
     "data": {
      "text/plain": [
       "400"
      ]
     },
     "execution_count": 6,
     "metadata": {},
     "output_type": "execute_result"
    }
   ],
   "source": [
    "# can be used a self-invoking function\n",
    "# a self-invoking function is a function who's definition calls iteself\n",
    "(lambda x: x**2)(20)"
   ]
  },
  {
   "cell_type": "markdown",
   "metadata": {},
   "source": [
    "#### Saving to a Variable"
   ]
  },
  {
   "cell_type": "code",
   "execution_count": 2,
   "metadata": {},
   "outputs": [
    {
     "name": "stdout",
     "output_type": "stream",
     "text": [
      "<function <lambda> at 0x0000020D6B019430>\n"
     ]
    },
    {
     "data": {
      "text/plain": [
       "400"
      ]
     },
     "execution_count": 2,
     "metadata": {},
     "output_type": "execute_result"
    }
   ],
   "source": [
    "square = lambda x: x**2\n",
    "print(square)\n",
    "square(20)"
   ]
  },
  {
   "cell_type": "markdown",
   "metadata": {},
   "source": [
    "#### Multiple Inputs"
   ]
  },
  {
   "cell_type": "code",
   "execution_count": 7,
   "metadata": {},
   "outputs": [
    {
     "data": {
      "text/plain": [
       "10"
      ]
     },
     "execution_count": 7,
     "metadata": {},
     "output_type": "execute_result"
    }
   ],
   "source": [
    "add = lambda x,y: x+y\n",
    "add(4,6)"
   ]
  },
  {
   "cell_type": "code",
   "execution_count": 4,
   "metadata": {},
   "outputs": [],
   "source": [
    "def add(x,y):\n",
    "    return x+y"
   ]
  },
  {
   "cell_type": "code",
   "execution_count": 8,
   "metadata": {},
   "outputs": [
    {
     "data": {
      "text/plain": [
       "'catdog'"
      ]
     },
     "execution_count": 8,
     "metadata": {},
     "output_type": "execute_result"
    }
   ],
   "source": [
    "#self invoking version\n",
    "(lambda x,y: x+y)('cat','dog')"
   ]
  },
  {
   "cell_type": "markdown",
   "metadata": {},
   "source": [
    "#### Passing a Lambda into a Function"
   ]
  },
  {
   "cell_type": "code",
   "execution_count": 13,
   "metadata": {},
   "outputs": [
    {
     "data": {
      "text/plain": [
       "[{'name': 'Orca', 'color': 'black and white'},\n",
       " {'name': 'Fennec Fox', 'color': 'brown'},\n",
       " {'name': 'Pelican', 'color': 'brown'},\n",
       " {'name': 'Siberian Tiger', 'color': 'orange and black'}]"
      ]
     },
     "execution_count": 13,
     "metadata": {},
     "output_type": "execute_result"
    }
   ],
   "source": [
    "# with built-ins - sorted()\n",
    "animals = [{'name': 'Fennec Fox', 'color':'brown'}, {'name': 'Orca', 'color':'black and white'}, {'name': 'Pelican', 'color':'brown'}, {'name': 'Siberian Tiger', 'color':'orange and black'} ]\n",
    "# sorted(animals) wont work - cart directly sort a list of dictionaries\n",
    "#use the value at the dictionary's name key to decide sorting order\n",
    "sorted(animals, key=lambda dct: dct['color'])"
   ]
  },
  {
   "cell_type": "code",
   "execution_count": 14,
   "metadata": {},
   "outputs": [
    {
     "data": {
      "text/plain": [
       "45"
      ]
     },
     "execution_count": 14,
     "metadata": {},
     "output_type": "execute_result"
    }
   ],
   "source": [
    "# user-defined case(less common to use, decidedly niche)\n",
    "def executeF(f, num):\n",
    "    \"\"\"\n",
    "    f expects a lambda function\n",
    "    num expects a number\n",
    "    \"\"\"\n",
    "    \n",
    "    return f(num)\n",
    "\n",
    "executeF(lambda x: x*15, 3)"
   ]
  },
  {
   "cell_type": "code",
   "execution_count": null,
   "metadata": {},
   "outputs": [],
   "source": []
  },
  {
   "cell_type": "markdown",
   "metadata": {},
   "source": [
    "#### Returning a Lambda from a Function"
   ]
  },
  {
   "cell_type": "code",
   "execution_count": 18,
   "metadata": {},
   "outputs": [
    {
     "name": "stdout",
     "output_type": "stream",
     "text": [
      "<function returnFunc.<locals>.multiply at 0x0000020D6B019550>\n",
      "30\n",
      "<function returnLambda.<locals>.<lambda> at 0x0000020D6CAE21F0>\n",
      "<function returnLambda.<locals>.<lambda> at 0x0000020D6CB004C0>\n",
      "115000125\n",
      "145\n"
     ]
    }
   ],
   "source": [
    "# regular defined function\n",
    "def multiply_normal(num):\n",
    "    return num *4\n",
    "\n",
    "#function defined within a function\n",
    "def returnFunc():\n",
    "    def multiply(num):\n",
    "        return num*2\n",
    "    return multiply \n",
    "\n",
    "f_return = returnFunc()\n",
    "print(f_return)\n",
    "print(f_return(15))\n",
    "\n",
    "#lambda function returned from a regular function\n",
    "def returnLambda(b,c):\n",
    "    return lambda x,y: x + y + b + c\n",
    "# set up different behaviors of the lambda function based on an initial call to the outer returnLambda funcion\n",
    "# setup A\n",
    "bigAdds = returnLambda(60000000, 55000000)\n",
    "print(bigAdds)\n",
    "smallAdds = returnLambda(17,3)\n",
    "print(smallAdds)\n",
    "\n",
    "print(bigAdds(50,75))\n",
    "print(smallAdds(50,75))"
   ]
  },
  {
   "cell_type": "markdown",
   "metadata": {},
   "source": [
    "#### If Statements within Lambdas"
   ]
  },
  {
   "cell_type": "code",
   "execution_count": 20,
   "metadata": {},
   "outputs": [
    {
     "name": "stdout",
     "output_type": "stream",
     "text": [
      "Even\n",
      "Odd\n"
     ]
    }
   ],
   "source": [
    "# shorthand if else structure can be used in a return statement\n",
    "# split into two separate return options\n",
    "# lambda <parameters>: <value_to_return_if_true> if <conditional> else <value_to_return_if_false>\n",
    "evenorodd = lambda num: 'Even' if num%2==0 else 'Odd'\n",
    "\n",
    "print(evenorodd(13465131642))\n",
    "print(evenorodd(1))"
   ]
  },
  {
   "cell_type": "markdown",
   "metadata": {},
   "source": [
    "#### In-Class Exercise #1 <br>\n",
    "<p>Write an anonymous function that cubes the arguments passed in and assign the anonymous function to a variable 'f'.</p>"
   ]
  },
  {
   "cell_type": "code",
   "execution_count": 23,
   "metadata": {},
   "outputs": [
    {
     "data": {
      "text/plain": [
       "125000"
      ]
     },
     "execution_count": 23,
     "metadata": {},
     "output_type": "execute_result"
    }
   ],
   "source": [
    "f= lambda x: x**3\n",
    "f(50)"
   ]
  },
  {
   "cell_type": "markdown",
   "metadata": {},
   "source": [
    "## Map <br>\n",
    "<p>The map function allows you to iterate over an entire list while running a function on each item of the list. This is why the map function works well with lambda's, because it simplifies things and you write less lines of code.<br>The syntax for a map function is \"map(function to be used, list to be used)\"<br>However, you must be careful, as the map function returns a map object, not a list. To turn it into a list we use the list() type conversion.</p>"
   ]
  },
  {
   "cell_type": "markdown",
   "metadata": {},
   "source": [
    "#### Syntax"
   ]
  },
  {
   "cell_type": "code",
   "execution_count": 26,
   "metadata": {},
   "outputs": [
    {
     "name": "stdout",
     "output_type": "stream",
     "text": [
      "['FENNEC FOX', 'SIBERIAN TIGER', 'AUSTRALIAN GOOSE', 'MADAGASCAR MOOSE', 'CANDAIAN GOOSE']\n"
     ]
    }
   ],
   "source": [
    "animals = ['fennec fox', 'siberian tiger', 'australian goose', 'madagascar moose', 'candaian goose']\n",
    "capitalized = []\n",
    "for a in animals:\n",
    "    capitalized.append(a.upper())\n",
    "print(capitalized)"
   ]
  },
  {
   "cell_type": "code",
   "execution_count": 27,
   "metadata": {},
   "outputs": [
    {
     "name": "stdout",
     "output_type": "stream",
     "text": [
      "<map object at 0x0000020D6C33A850>\n",
      "['FENNEC FOX', 'SIBERIAN TIGER', 'AUSTRALIAN GOOSE', 'MADAGASCAR MOOSE', 'CANDAIAN GOOSE']\n"
     ]
    }
   ],
   "source": [
    "# same thing but with a map\n",
    "capitalized = map(str.upper, animals)\n",
    "print(capitalized)\n",
    "capitalized = list (capitalized)\n",
    "print (capitalized)"
   ]
  },
  {
   "cell_type": "markdown",
   "metadata": {},
   "source": [
    "#### Using Lambda's with Map"
   ]
  },
  {
   "cell_type": "code",
   "execution_count": 36,
   "metadata": {},
   "outputs": [
    {
     "name": "stdout",
     "output_type": "stream",
     "text": [
      "[(16, 16), (4, 9), (20, 10), (3, 32), (15, 6), (20, 2)]\n"
     ]
    }
   ],
   "source": [
    "# non lambda version\n",
    "# if num1 and num2 are both below 10 return a tuple containing their squares otherside return a tuple containing num1 and num2\n",
    "def squareUnderTen(num1, num2):\n",
    "    if num1 < 10 and num2 < 10:\n",
    "        return num1**2, num2**2\n",
    "    else:\n",
    "        return num1, num2\n",
    "\n",
    "nums = [4,2,20,3,15,20]\n",
    "more_nums = [4,3,10,32,6,2]\n",
    "\n",
    "squared_numbers_map = list(map(squareUnderTen, nums, more_nums))\n",
    "print(squared_numbers_map)"
   ]
  },
  {
   "cell_type": "code",
   "execution_count": 37,
   "metadata": {},
   "outputs": [
    {
     "data": {
      "text/plain": [
       "[(16, 16), (4, 9), (20, 10), (3, 32), (15, 6), (20, 2)]"
      ]
     },
     "execution_count": 37,
     "metadata": {},
     "output_type": "execute_result"
    }
   ],
   "source": [
    "\n",
    "squared_numbers_map = list(map(lambda num1, num2: (num1**2, num2**2) if num1<10 and num2<10 else (num1, num2), nums, more_nums))\n",
    "squared_numbers_map"
   ]
  },
  {
   "cell_type": "code",
   "execution_count": 38,
   "metadata": {},
   "outputs": [
    {
     "name": "stdout",
     "output_type": "stream",
     "text": [
      "['Man City', 'Boooo', 'Stoke City', 'Boooo', 'Boooo', 'Hull City', 'Boooo']\n"
     ]
    }
   ],
   "source": [
    "teams = ['Man City', 'Man United', 'Stoke City', 'West Ham', 'Chelsea', 'Hull City', 'Birmingham Rovers']\n",
    "# I want a list of the team name if the team name contains City or booo if it doesnt\n",
    "city_teams = list(map(lambda name: name if 'City' in name else 'Boooo', teams))\n",
    "print(city_teams)"
   ]
  },
  {
   "cell_type": "code",
   "execution_count": 41,
   "metadata": {},
   "outputs": [
    {
     "name": "stdout",
     "output_type": "stream",
     "text": [
      "['Man City', 'Boooo', 'Stoke City', 'Boooo', 'Boooo', 'Hull City', 'Boooo']\n",
      "['Man City', 'Boooo', 'Stoke City', 'Boooo', 'Boooo', 'Hull City', 'Boooo']\n",
      "['Man City', 'Boooo', 'Stoke City', 'Boooo', 'Boooo', 'Hull City', 'Boooo']\n",
      "['Man City', 'BoOoo', 'Stoke City', 'BoOoo', 'BoOoo', 'Hull City', 'BoOoo']\n"
     ]
    }
   ],
   "source": [
    "# non Lambda and non-map version\n",
    "\n",
    "def cityTeams(name):\n",
    "    if 'City' in name:\n",
    "        return name\n",
    "    else:\n",
    "        return 'Boooo'\n",
    "city_teamsM = list (map(cityTeams, teams)) \n",
    "print(city_teamsM)\n",
    "\n",
    "city_teams2 = []\n",
    "for x in teams:\n",
    "    city_teams2.append(cityTeams(x))\n",
    "print (city_teams2)\n",
    "\n",
    "#or with a list comprehension\n",
    "city_teamsLC = [cityTeams(x) for x in teams]\n",
    "print(city_teamsLC)\n",
    "\n",
    "# list comprehension Lambda version?\n",
    "city_teamsLC_lambda = [(lambda name: name if 'City' in name else 'BoOoo')(x) for x in teams]\n",
    "print (city_teamsLC_lambda)"
   ]
  },
  {
   "cell_type": "markdown",
   "metadata": {},
   "source": [
    "#### In-Class Exercise #2 <br>\n",
    "<p>Use the map function to double each number and minus it by one in the list by using a lambda function</p>"
   ]
  },
  {
   "cell_type": "code",
   "execution_count": 43,
   "metadata": {},
   "outputs": [
    {
     "name": "stdout",
     "output_type": "stream",
     "text": [
      "[1, 3, 5, 7, 9]\n"
     ]
    }
   ],
   "source": [
    "nums = [1,2,3,4,5]\n",
    "#expected output:[1,3,5,7,9]\n",
    "#create the lambda function: 'lambda x: x*2-1'\n",
    "# add it into a map func , with nums for what it will be mapping through\n",
    "# make it a list () and set it to a variable name\n",
    "# print\n",
    "\n",
    "\n",
    "result = list(map(lambda x: x*2-1, nums))\n",
    "print(result)"
   ]
  },
  {
   "cell_type": "markdown",
   "metadata": {},
   "source": [
    "## Filter() <br>\n",
    "<p>Filter's are similar to the map function, where you're able to pass a function argument and a list argument and filter out something from the list based on the conditions passed. Similar to the map function, it returns a filter object, so you need to type convert it to a list()</p>"
   ]
  },
  {
   "cell_type": "markdown",
   "metadata": {},
   "source": [
    "#### Syntax"
   ]
  },
  {
   "cell_type": "code",
   "execution_count": 45,
   "metadata": {},
   "outputs": [
    {
     "name": "stdout",
     "output_type": "stream",
     "text": [
      "['Man City', 'Stoke City', 'Hull City']\n"
     ]
    }
   ],
   "source": [
    "# filter(function, iterable)\n",
    "teams = ['Man City', 'Man United', 'Stoke City', 'West Ham', 'Chelsea', 'Hull City', 'Birmingham Rovers']\n",
    "\n",
    "# the way a filter works is that it looks for the provided function returning False or something that evalautes to False\n",
    "# if the returned value evaluates to True -> the original item from the list is included in the new filter object\n",
    "# if the returned value evaluates to False -> the original item from the list is not included in the new filter object\n",
    "# so the lambda func for filtering should return false for any item not to be included in the new list\n",
    "\n",
    "# want a list of the team name if it contains \"city\"\n",
    "city_teams = list(filter(lambda name: True if 'City' in name else False, teams))\n",
    "print (city_teams)"
   ]
  },
  {
   "cell_type": "code",
   "execution_count": 46,
   "metadata": {},
   "outputs": [
    {
     "data": {
      "text/plain": [
       "['Man City', 'Stoke City', 'Hull City']"
      ]
     },
     "execution_count": 46,
     "metadata": {},
     "output_type": "execute_result"
    }
   ],
   "source": [
    "# similar idea/same result as following list comprehension\n",
    "city_teamsLC = [name for name in teams if 'City' in name]\n",
    "city_teamsLC"
   ]
  },
  {
   "cell_type": "markdown",
   "metadata": {},
   "source": [
    "#### Using Lambda's with Filter()"
   ]
  },
  {
   "cell_type": "code",
   "execution_count": 47,
   "metadata": {},
   "outputs": [],
   "source": [
    "# see above"
   ]
  },
  {
   "cell_type": "markdown",
   "metadata": {},
   "source": [
    "#### In-Class Exercise #3 <br>\n",
    "<p>Filter out all the numbers that are below the mean of the list.<br><b>Hint: Import the 'statistics' module</b></p>"
   ]
  },
  {
   "cell_type": "code",
   "execution_count": 56,
   "metadata": {},
   "outputs": [
    {
     "name": "stdout",
     "output_type": "stream",
     "text": [
      "[1, 2, 4, 16, 5]\n",
      "[1, 2, 4, 16, 5]\n"
     ]
    }
   ],
   "source": [
    "nums = [1, 2, 32, 4, 45, 93, 72, 42, 16, 32, 5]\n",
    "from statistics import mean\n",
    "\n",
    "#list comprehension version or nonLambda version\n",
    "lowLC = [x for x in nums if x < mean(nums)]\n",
    "print(lowLC)\n",
    "\n",
    "lowFilter = list(filter(lambda x: True if x < mean(nums) else False, nums))\n",
    "print(lowFilter)"
   ]
  },
  {
   "cell_type": "markdown",
   "metadata": {},
   "source": [
    "## Reduce() <br>\n",
    "<p>Be very careful when using this function, as of Python 3 it's been moved to the 'functools' library and no longer is a built-in function.<br>The creator of Python himself, says to just use a for loop instead.</p>"
   ]
  },
  {
   "cell_type": "markdown",
   "metadata": {},
   "source": [
    "#### Syntax"
   ]
  },
  {
   "cell_type": "code",
   "execution_count": null,
   "metadata": {},
   "outputs": [],
   "source": []
  },
  {
   "cell_type": "markdown",
   "metadata": {},
   "source": [
    "#### Using Lambda's with Reduce()"
   ]
  },
  {
   "cell_type": "code",
   "execution_count": null,
   "metadata": {},
   "outputs": [],
   "source": []
  },
  {
   "cell_type": "markdown",
   "metadata": {},
   "source": [
    "#### In-Class Exercise #4 <br>\n",
    "<p>Use the reduce function to multiply the numbers in the list below together with a lambda function.</p>"
   ]
  },
  {
   "cell_type": "code",
   "execution_count": null,
   "metadata": {},
   "outputs": [],
   "source": []
  },
  {
   "cell_type": "markdown",
   "metadata": {},
   "source": [
    "## Recursion <br>\n",
    "<p>Recursion means that a function is calling itself, so it contanstly executes until a base case is reached. It will then push the returning values back up the chain until the function is complete. A prime example of recursion is computing factorials... such that 5! (factorial) is 5*4*3*2*1 which equals 120.</p>"
   ]
  },
  {
   "cell_type": "markdown",
   "metadata": {},
   "source": [
    "#### Implementing a Base Case"
   ]
  },
  {
   "cell_type": "code",
   "execution_count": 60,
   "metadata": {},
   "outputs": [
    {
     "name": "stdout",
     "output_type": "stream",
     "text": [
      "sum1toN(8) = 8 to sum1toN(7)\n",
      "sum1toN(7) = 7 to sum1toN(6)\n",
      "sum1toN(6) = 6 to sum1toN(5)\n",
      "sum1toN(5) = 5 to sum1toN(4)\n",
      "sum1toN(4) = 4 to sum1toN(3)\n",
      "sum1toN(3) = 3 to sum1toN(2)\n",
      "sum1toN(2) = 2 to sum1toN(1)\n",
      "sum1toN(1) = 1\n"
     ]
    },
    {
     "data": {
      "text/plain": [
       "36"
      ]
     },
     "execution_count": 60,
     "metadata": {},
     "output_type": "execute_result"
    }
   ],
   "source": [
    "# sum of all numbers between 1 and n\n",
    "# where n is the input given to my function\n",
    "# f(n) = n + n-1 + n-2 + .... 2 + 1\n",
    "# f(n-1) = n-1 + n-1 + ... + 2 + 1\n",
    "# in other words.... we can rewrite f(n) as\n",
    "# f(n) = n + f(n-1)\n",
    "# f(1) = 1\n",
    "\n",
    "# by rewriring some equation or some process as depending on a modified version of itself\n",
    "# aka f(n) can be written as dependent on f(n-1)\n",
    "# aka f(1) = 1\n",
    "# we can set up a function which returns that modified version of itself, thus kicking off a series of function alls\n",
    "# until we reach the base case\n",
    "\n",
    "\n",
    "def sum1toN(n):\n",
    "    # base case\n",
    "    if n == 1:\n",
    "        print(\"sum1toN(1) = 1\")\n",
    "        return 1\n",
    "    else:\n",
    "        print(f\"sum1toN({n}) = {n} to sum1toN({n-1})\")\n",
    "        return n + sum1toN(n-1)\n",
    "sum1toN(8)"
   ]
  },
  {
   "cell_type": "markdown",
   "metadata": {},
   "source": [
    "#### Writing a Factorial Function"
   ]
  },
  {
   "cell_type": "code",
   "execution_count": 61,
   "metadata": {},
   "outputs": [
    {
     "name": "stdout",
     "output_type": "stream",
     "text": [
      "120\n",
      "120\n"
     ]
    }
   ],
   "source": [
    "# x! = x*x-1*x-2.....*2*1\n",
    "# the product of all numbers between 1 and x\n",
    "\n",
    "def factorial(n):\n",
    "    if n==1:\n",
    "        return 1\n",
    "    else:\n",
    "        return n * factorial (n-1)\n",
    "print(factorial(5))\n",
    "print(5*4*3*2*1)"
   ]
  },
  {
   "cell_type": "markdown",
   "metadata": {},
   "source": [
    "#### In-Class Exercise #5 <br>\n",
    "<p>Write a recursive function that subtracts all numbers to the argument given.</p>"
   ]
  },
  {
   "cell_type": "code",
   "execution_count": null,
   "metadata": {},
   "outputs": [],
   "source": [
    "# optional - play around with if you want"
   ]
  },
  {
   "cell_type": "markdown",
   "metadata": {},
   "source": [
    "## Generators <br>\n",
    "<p>Generators are a type of iterable, like lists or tuples. They do not allow indexing, but they can still be iterated through with for loops. They are created using functions and the yield statement.</p>"
   ]
  },
  {
   "cell_type": "markdown",
   "metadata": {},
   "source": [
    "#### Yield Keyword <br>\n",
    "<p>The yield keyword denotes a generator, it doesn't return so it won't leave the function and reset all variables in the function scope, instead it yields the number back to the caller.</p>"
   ]
  },
  {
   "cell_type": "code",
   "execution_count": 26,
   "metadata": {},
   "outputs": [
    {
     "ename": "SyntaxError",
     "evalue": "invalid syntax (3923002740.py, line 1)",
     "output_type": "error",
     "traceback": [
      "\u001b[1;36m  Input \u001b[1;32mIn [26]\u001b[1;36m\u001b[0m\n\u001b[1;33m    def my_range(start, stop, step=1)L\u001b[0m\n\u001b[1;37m                                     ^\u001b[0m\n\u001b[1;31mSyntaxError\u001b[0m\u001b[1;31m:\u001b[0m invalid syntax\n"
     ]
    }
   ],
   "source": [
    "def my_range(start, stop, step=1)L\n",
    "while start<stop:\n",
    "    yield # denotes/defines a generator\n",
    "    start+=stop"
   ]
  },
  {
   "cell_type": "markdown",
   "metadata": {},
   "source": [
    "#### Infinite Generator"
   ]
  },
  {
   "cell_type": "code",
   "execution_count": null,
   "metadata": {},
   "outputs": [],
   "source": [
    "# bad, never create infinite loops\n",
    "def my_range(start,stop, step=1)"
   ]
  },
  {
   "cell_type": "markdown",
   "metadata": {},
   "source": [
    "#### In-Class Exercise #6 <br>\n",
    "<p>Create a generator that takes a number argument and yields that number squared, then prints each number squared until zero is reached.</p>"
   ]
  },
  {
   "cell_type": "code",
   "execution_count": 41,
   "metadata": {},
   "outputs": [
    {
     "ename": "SyntaxError",
     "evalue": "positional argument follows keyword argument (2655182689.py, line 5)",
     "output_type": "error",
     "traceback": [
      "\u001b[1;36m  Input \u001b[1;32mIn [41]\u001b[1;36m\u001b[0m\n\u001b[1;33m    for num in squared(start=5, step):\u001b[0m\n\u001b[1;37m                                    ^\u001b[0m\n\u001b[1;31mSyntaxError\u001b[0m\u001b[1;31m:\u001b[0m positional argument follows keyword argument\n"
     ]
    }
   ],
   "source": [
    "def squared(start, stop, step=-1):\n",
    "    while start>=stop:\n",
    "        yield start ** 2\n",
    "        start-= step\n",
    "for num in squared(start=5, step):\n",
    "    print (num)"
   ]
  },
  {
   "cell_type": "code",
   "execution_count": 43,
   "metadata": {},
   "outputs": [
    {
     "name": "stdout",
     "output_type": "stream",
     "text": [
      "100\n",
      "81\n",
      "64\n",
      "49\n",
      "36\n",
      "25\n",
      "16\n",
      "9\n",
      "4\n",
      "1\n"
     ]
    }
   ],
   "source": [
    "def myrange(start, step=-1):\n",
    "    while start>0:\n",
    "        yield start**2\n",
    "        start+=step\n",
    "for i in myrange(10):\n",
    "    print(i)"
   ]
  },
  {
   "cell_type": "markdown",
   "metadata": {},
   "source": [
    "# Exercises"
   ]
  },
  {
   "cell_type": "markdown",
   "metadata": {},
   "source": [
    "### Exercise #1 <br>\n",
    "<p>Filter out all of the empty strings from the list below</p>\n",
    "\n",
    "`Output: ['Argentina', 'San Diego', 'Boston', 'New York']`"
   ]
  },
  {
   "cell_type": "code",
   "execution_count": 54,
   "metadata": {},
   "outputs": [
    {
     "name": "stdout",
     "output_type": "stream",
     "text": [
      "we know a method to remove all whitespace from a string - .strip()\n",
      "this should be included in our answer\n",
      "['Argentina', 'San Diego', 'Boston', 'New York']\n",
      "['Argentina', 'San Diego', 'Boston', 'New York']\n"
     ]
    }
   ],
   "source": [
    "if not \" \":\n",
    "    print ('empty strings are false')\n",
    "if  not '                '.strip():\n",
    "    print('we know a method to remove all whitespace from a string - .strip()')\n",
    "    \n",
    "# ok our condition for filtering out empty strings\n",
    "example = 'Morocco'\n",
    "if example.strip():\n",
    "    print('this should be included in our answer')\n",
    "\n",
    "#list comprehension approach\n",
    "output = [place for place in places if place.strip()]\n",
    "print(output)\n",
    "\n",
    "\n",
    "# filter and lambda approach\n",
    "# we want our lambda function to return false for any string of just spaces\n",
    "answer = list(filter(lambda place:place.strip(), places))\n",
    "print(answer)"
   ]
  },
  {
   "cell_type": "code",
   "execution_count": 29,
   "metadata": {},
   "outputs": [
    {
     "name": "stdout",
     "output_type": "stream",
     "text": [
      "[' ', 'Argentina', ' ', 'San Diego', '  ', 'Boston', 'New York']\n"
     ]
    }
   ],
   "source": [
    "places = [\" \",\"Argentina\", \" \", \"San Diego\",\"\",\"  \",\"\",\"Boston\",\"New York\"]\n",
    "place = list(filter(lambda city: True if city , places))\n",
    "print(place)"
   ]
  },
  {
   "cell_type": "markdown",
   "metadata": {},
   "source": [
    "### Exercise #2 <br>\n",
    "<p>Write an anonymous function that sorts this list by the last name...<br><b>Hint: Use the \".sort()\" method and access the key\"</b></p>\n",
    "\n",
    "`Output: ['Victor aNisimov', 'Gary A.J. Bernstein', 'Joel Carter', 'Andrew P. Garfield', 'David hassELHOFF']`"
   ]
  },
  {
   "cell_type": "code",
   "execution_count": 56,
   "metadata": {},
   "outputs": [
    {
     "name": "stdout",
     "output_type": "stream",
     "text": [
      "['Gary A.J. Bernstein', 'Joel Carter', 'Andrew P. Garfield', 'Victor aNisimov', 'David hassELHOFF']\n"
     ]
    }
   ],
   "source": [
    "author = [\"Joel Carter\", \"Victor aNisimov\", \"Andrew P. Garfield\",\"David hassELHOFF\",\"Gary A.J. Bernstein\"]\n",
    "newlist = sorted(author, key=lambda name:name.split(\" \")[-1])\n",
    "print(newlist)\n",
    "#.sort() or sorted() with a lambda function for the key parameter\n",
    "\n"
   ]
  },
  {
   "cell_type": "markdown",
   "metadata": {},
   "source": [
    "### Exercise #3 <br>\n",
    "<p>Convert the list below from Celsius to Farhenheit, using the map function with a lambda...</p>\n",
    "\n",
    "`Output: [('Nashua', 89.6), ('Boston', 53.6), ('Los Angelos', 111.2), ('Miami', 84.2)]\n",
    "`"
   ]
  },
  {
   "cell_type": "code",
   "execution_count": 14,
   "metadata": {},
   "outputs": [
    {
     "ename": "SyntaxError",
     "evalue": "invalid syntax (32410732.py, line 6)",
     "output_type": "error",
     "traceback": [
      "\u001b[1;36m  Input \u001b[1;32mIn [14]\u001b[1;36m\u001b[0m\n\u001b[1;33m    farhenheit = list(map(lambda (x,y): (str(x), (9*y/5 + 32)), places))\u001b[0m\n\u001b[1;37m                                 ^\u001b[0m\n\u001b[1;31mSyntaxError\u001b[0m\u001b[1;31m:\u001b[0m invalid syntax\n"
     ]
    }
   ],
   "source": [
    "\n",
    "# squared_numbers_map = list(map(lambda num1, num2: (num1**2, num2**2) if num1<10 and num2<10 else (num1, num2), nums, more_nums))\n",
    "# squared_numbers_map\n",
    "\n",
    "# F = (9/5)*C + 32\n",
    "places = [('Nashua',32),(\"Boston\",12),(\"Los Angelos\",44),(\"Miami\",29)]\n",
    "farhenheit = list(map(lambda x,y: (str(x), (9*y/5 + 32)), places))\n",
    "print(farhenheit)"
   ]
  },
  {
   "cell_type": "markdown",
   "metadata": {},
   "source": [
    "### Exercise #4 <br>\n",
    "<p>Write a recursion function to perform the fibonacci sequence up to the number passed in.</p>\n",
    "\n",
    "`Output for fib(5) => \n",
    "Iteration 0: 1\n",
    "Iteration 1: 1\n",
    "Iteration 2: 2\n",
    "Iteration 3: 3\n",
    "Iteration 4: 5\n",
    "Iteration 5: 8`"
   ]
  },
  {
   "cell_type": "code",
   "execution_count": null,
   "metadata": {
    "scrolled": true
   },
   "outputs": [],
   "source": [
    "# example of recursion similar to our previous examples\n",
    "# fibonaaci sequence?\n",
    "# 1,1,2,3,5,8, 13, fib(n-1)+ fib(n-2)\n",
    "# fib(0):1\n",
    "# fib(1):1\n",
    "# fib(2):2\n",
    "# fib(3):3\n",
    "#the next number is the sum of the two previous numbers\n",
    "\n",
    "#input x: step # of the fibonacci sequence to produce the returned number\n",
    "def fib(x):\n",
    "    if x<=2:\n",
    "        return 1\n",
    "    else:\n",
    "        return fib(x-1) + fib(x-2)\n",
    "fib(20)"
   ]
  },
  {
   "cell_type": "code",
   "execution_count": 25,
   "metadata": {},
   "outputs": [
    {
     "data": {
      "text/plain": [
       "895823740846386419374619896644081372908442396055235037976881998596287659112801463391990833973127228277784941008593749543258776769487535516935359473717986096583701315652712023053238743052904818298782912757357578835446812108359796029248502004961915763197504823060100213569645984666283075775238207616027858516235"
      ]
     },
     "execution_count": 25,
     "metadata": {},
     "output_type": "execute_result"
    }
   ],
   "source": [
    "# let's introduce the idea of caching\n",
    "# caching is essentially telling our computer to store some of the answers of processes we think it may need to repeat frequently\n",
    "# caching is used all over the palce in modern computing\n",
    "# web cache - locally storing some frequently visited website components for faster loading\n",
    "# search engines will cache results for frequently run searches rather than repeating the search every single time\n",
    "# we can also use the concept with our recursion\n",
    "\n",
    "from functools import lru_cache\n",
    "\n",
    "#lru_cache is a decorator\n",
    "    # a decorator is essentially a special type of function\n",
    "    # a decorator is a function designed to wrap another function\n",
    "    # it provides a change in the behavior or additional functionality to the decorated function\n",
    "    \n",
    "# @decorator_name(parameters)\n",
    "# def normalFunc():\n",
    "\n",
    "#parameter here is the maxsize of the last recently used cache\n",
    "@lru_cache(3)\n",
    "def fib(x):\n",
    "    if x <=2:\n",
    "        return 1\n",
    "    else:\n",
    "        return fib(x-1) + fib(x-2)\n",
    "    \n",
    "fib(1480)"
   ]
  },
  {
   "cell_type": "code",
   "execution_count": null,
   "metadata": {},
   "outputs": [],
   "source": []
  }
 ],
 "metadata": {
  "kernelspec": {
   "display_name": "Python 3 (ipykernel)",
   "language": "python",
   "name": "python3"
  },
  "language_info": {
   "codemirror_mode": {
    "name": "ipython",
    "version": 3
   },
   "file_extension": ".py",
   "mimetype": "text/x-python",
   "name": "python",
   "nbconvert_exporter": "python",
   "pygments_lexer": "ipython3",
   "version": "3.9.7"
  }
 },
 "nbformat": 4,
 "nbformat_minor": 2
}
